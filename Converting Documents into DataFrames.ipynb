{
 "metadata": {
  "name": "",
  "signature": "sha256:192c13fc4a5a614f9393f36a56f87ae6156382321381f8cd0fcbb5a7c14e3bc3"
 },
 "nbformat": 3,
 "nbformat_minor": 0,
 "worksheets": [
  {
   "cells": [
    {
     "cell_type": "code",
     "collapsed": false,
     "input": [
      "import pandas as pd\n",
      "from pandas_lib import *\n",
      "\n",
      "# Create a DataFame from both past and present legislators\n",
      "legislators = import_legislators()\n",
      "\n",
      "# Save the DataFrame \n",
      "save_legislators(legislators)\n",
      "\n",
      "# Let's ask our DataFrame something meaningful.\n",
      "# What political parties have held seats in congress and \n",
      "# how many members has each party had?\n",
      "#legislators.groupby('party').size().order(ascending=False)"
     ],
     "language": "python",
     "metadata": {},
     "outputs": [],
     "prompt_number": 1
    },
    {
     "cell_type": "code",
     "collapsed": false,
     "input": [
      "# Let's do the same thing for committees\n",
      "\n",
      "committees_sub = import_committees()\n",
      "save_committees(committees_sub[0])\n",
      "save_subcommittees(committees_sub[1])\n"
     ],
     "language": "python",
     "metadata": {},
     "outputs": [],
     "prompt_number": 2
    },
    {
     "cell_type": "code",
     "collapsed": false,
     "input": [
      "membership = import_committee_membership()\n",
      "save_committee_membership(membership)"
     ],
     "language": "python",
     "metadata": {},
     "outputs": [],
     "prompt_number": 3
    },
    {
     "cell_type": "code",
     "collapsed": false,
     "input": [
      "subcommittees = committees_sub[1]\n",
      "committees = committees_sub[0]\n",
      "committee_members = pd.merge(committees, membership, on=\"committee_id\")"
     ],
     "language": "python",
     "metadata": {},
     "outputs": [],
     "prompt_number": 4
    },
    {
     "cell_type": "code",
     "collapsed": false,
     "input": [
      "committee_members['legislator_id']"
     ],
     "language": "python",
     "metadata": {},
     "outputs": [
      {
       "metadata": {},
       "output_type": "pyout",
       "prompt_number": 5,
       "text": [
        "0      711\n",
        "1      446\n",
        "2     1724\n",
        "3     1758\n",
        "4     1704\n",
        "5     1805\n",
        "6     1952\n",
        "7     2049\n",
        "8     2009\n",
        "9     1997\n",
        "10    1989\n",
        "11    2062\n",
        "12    2043\n",
        "13    2032\n",
        "14    2073\n",
        "...\n",
        "2491    1863\n",
        "2492    1010\n",
        "2493    1424\n",
        "2494    1409\n",
        "2495     136\n",
        "2496    1829\n",
        "2497    1898\n",
        "2498    2076\n",
        "2499    1844\n",
        "2500     153\n",
        "2501    1608\n",
        "2502    1899\n",
        "2503    1507\n",
        "2504    1687\n",
        "2505    1863\n",
        "Name: legislator_id, Length: 2506, dtype: int64"
       ]
      }
     ],
     "prompt_number": 5
    },
    {
     "cell_type": "code",
     "collapsed": false,
     "input": [
      "committee_legislators = pd.merge(committee_members, legislators, on='legislator_id')"
     ],
     "language": "python",
     "metadata": {},
     "outputs": [],
     "prompt_number": 6
    },
    {
     "cell_type": "heading",
     "level": 2,
     "metadata": {},
     "source": [
      "OK we should now have a list of committee's and their members"
     ]
    },
    {
     "cell_type": "code",
     "collapsed": false,
     "input": [
      "len(committee_legislators.index)\n"
     ],
     "language": "python",
     "metadata": {},
     "outputs": [
      {
       "metadata": {},
       "output_type": "pyout",
       "prompt_number": 7,
       "text": [
        "2506"
       ]
      }
     ],
     "prompt_number": 7
    },
    {
     "cell_type": "code",
     "collapsed": false,
     "input": [
      "committee_legislators.groupby('party').size()\n",
      "\n"
     ],
     "language": "python",
     "metadata": {},
     "outputs": [
      {
       "metadata": {},
       "output_type": "pyout",
       "prompt_number": 9,
       "text": [
        "party\n",
        "Democrat       1176\n",
        "Independent      20\n",
        "Republican     1310\n",
        "dtype: int64"
       ]
      }
     ],
     "prompt_number": 9
    },
    {
     "cell_type": "code",
     "collapsed": false,
     "input": [
      "import pandas as pd\n",
      "legislation = pd.DataFrame().from_csv(\"./data/csv/113/legislation.csv\")\n",
      "legislation.columns\n"
     ],
     "language": "python",
     "metadata": {},
     "outputs": [
      {
       "metadata": {},
       "output_type": "pyout",
       "prompt_number": 5,
       "text": [
        "Index([u'congress', u'bill_id', u'bill_type', u'enacted_as', u'active', u'active_at', u'awaiting_signature', u'enacted', u'vetoed', u'introduced_at', u'number', u'official_title', u'popular_title', u'short_title', u'status', u'status_at', u'top_subject', u'updated_at'], dtype='object')"
       ]
      }
     ],
     "prompt_number": 5
    },
    {
     "cell_type": "code",
     "collapsed": false,
     "input": [
      "legislation.groupby('status').size()"
     ],
     "language": "python",
     "metadata": {},
     "outputs": [
      {
       "metadata": {},
       "output_type": "pyout",
       "prompt_number": 6,
       "text": [
        "status\n",
        "ENACTED:SIGNED                 101\n",
        "FAIL:ORIGINATING:HOUSE           2\n",
        "FAIL:ORIGINATING:SENATE          1\n",
        "INTRODUCED                       6\n",
        "PASSED:BILL                      3\n",
        "PASSED:CONCURRENTRES            38\n",
        "PASSED:SIMPLERES               434\n",
        "PASS_BACK:SENATE                 3\n",
        "PASS_OVER:HOUSE                252\n",
        "PASS_OVER:SENATE                56\n",
        "PROV_KILL:CLOTUREFAILED          9\n",
        "PROV_KILL:SUSPENSIONFAILED       1\n",
        "REFERRED                      6941\n",
        "REPORTED                       480\n",
        "dtype: int64"
       ]
      }
     ],
     "prompt_number": 6
    },
    {
     "cell_type": "code",
     "collapsed": false,
     "input": [],
     "language": "python",
     "metadata": {},
     "outputs": []
    }
   ],
   "metadata": {}
  }
 ]
}