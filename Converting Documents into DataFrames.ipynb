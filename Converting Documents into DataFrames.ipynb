{
 "metadata": {
  "name": "",
  "signature": "sha256:0720accf0cc6889c58bd05a412adfc98a6399e452049e09cc1b21139c7da2a89"
 },
 "nbformat": 3,
 "nbformat_minor": 0,
 "worksheets": [
  {
   "cells": [
    {
     "cell_type": "code",
     "collapsed": false,
     "input": [
      "import pandas as pd\n",
      "from pandas_lib import *\n",
      "\n",
      "# Create a DataFame from both past and present legislators\n",
      "legislators = import_legislators()\n",
      "\n",
      "# Save the DataFrame \n",
      "save_legislators(legislators)\n",
      "\n",
      "# Let's ask our DataFrame something meaningful.\n",
      "# What political parties have held seats in congress and \n",
      "# how many members has each party had?\n",
      "#legislators.groupby('party').size().order(ascending=False)"
     ],
     "language": "python",
     "metadata": {},
     "outputs": [],
     "prompt_number": 2
    },
    {
     "cell_type": "code",
     "collapsed": false,
     "input": [
      "# Let's do the same thing for committees\n",
      "\n",
      "committees_sub = import_committees()\n",
      "save_committees(committees_sub[0])\n",
      "save_subcommittees(committees_sub[1])\n"
     ],
     "language": "python",
     "metadata": {},
     "outputs": [],
     "prompt_number": 2
    },
    {
     "cell_type": "code",
     "collapsed": false,
     "input": [
      "membership = import_committee_membership()\n",
      "save_committee_membership(membership)"
     ],
     "language": "python",
     "metadata": {},
     "outputs": [],
     "prompt_number": 3
    },
    {
     "cell_type": "code",
     "collapsed": false,
     "input": [
      "subcommittees = committees_sub[1]\n",
      "committees = committees_sub[0]\n",
      "committee_members = pd.merge(committees, membership, on=\"committee_id\")"
     ],
     "language": "python",
     "metadata": {},
     "outputs": [],
     "prompt_number": 4
    },
    {
     "cell_type": "code",
     "collapsed": false,
     "input": [
      "committee_members['legislator_id']"
     ],
     "language": "python",
     "metadata": {},
     "outputs": [
      {
       "metadata": {},
       "output_type": "pyout",
       "prompt_number": 5,
       "text": [
        "0      711\n",
        "1      446\n",
        "2     1724\n",
        "3     1758\n",
        "4     1704\n",
        "5     1805\n",
        "6     1952\n",
        "7     2049\n",
        "8     2009\n",
        "9     1997\n",
        "10    1989\n",
        "11    2062\n",
        "12    2043\n",
        "13    2032\n",
        "14    2073\n",
        "...\n",
        "2491    1863\n",
        "2492    1010\n",
        "2493    1424\n",
        "2494    1409\n",
        "2495     136\n",
        "2496    1829\n",
        "2497    1898\n",
        "2498    2076\n",
        "2499    1844\n",
        "2500     153\n",
        "2501    1608\n",
        "2502    1899\n",
        "2503    1507\n",
        "2504    1687\n",
        "2505    1863\n",
        "Name: legislator_id, Length: 2506, dtype: int64"
       ]
      }
     ],
     "prompt_number": 5
    },
    {
     "cell_type": "code",
     "collapsed": false,
     "input": [
      "committee_legislators = pd.merge(committee_members, legislators, on='legislator_id')"
     ],
     "language": "python",
     "metadata": {},
     "outputs": [],
     "prompt_number": 6
    },
    {
     "cell_type": "heading",
     "level": 2,
     "metadata": {},
     "source": [
      "OK we should now have a list of committee's and their members"
     ]
    },
    {
     "cell_type": "code",
     "collapsed": false,
     "input": [
      "len(committee_legislators.index)\n"
     ],
     "language": "python",
     "metadata": {},
     "outputs": [
      {
       "metadata": {},
       "output_type": "pyout",
       "prompt_number": 7,
       "text": [
        "2506"
       ]
      }
     ],
     "prompt_number": 7
    },
    {
     "cell_type": "code",
     "collapsed": false,
     "input": [
      "committee_legislators.groupby('party').size()\n",
      "\n"
     ],
     "language": "python",
     "metadata": {},
     "outputs": [
      {
       "metadata": {},
       "output_type": "pyout",
       "prompt_number": 9,
       "text": [
        "party\n",
        "Democrat       1176\n",
        "Independent      20\n",
        "Republican     1310\n",
        "dtype: int64"
       ]
      }
     ],
     "prompt_number": 9
    },
    {
     "cell_type": "code",
     "collapsed": false,
     "input": [
      "import pandas as pd\n",
      "legislation = pd.DataFrame().from_csv(\"./data/csv/113/legislation.csv\")\n",
      "legislation.columns\n"
     ],
     "language": "python",
     "metadata": {},
     "outputs": [
      {
       "metadata": {},
       "output_type": "pyout",
       "prompt_number": 5,
       "text": [
        "Index([u'congress', u'bill_id', u'bill_type', u'enacted_as', u'active', u'active_at', u'awaiting_signature', u'enacted', u'vetoed', u'introduced_at', u'number', u'official_title', u'popular_title', u'short_title', u'status', u'status_at', u'top_subject', u'updated_at'], dtype='object')"
       ]
      }
     ],
     "prompt_number": 5
    },
    {
     "cell_type": "code",
     "collapsed": false,
     "input": [
      "legislation.groupby('status').size()"
     ],
     "language": "python",
     "metadata": {},
     "outputs": [
      {
       "ename": "NameError",
       "evalue": "name 'legislation' is not defined",
       "output_type": "pyerr",
       "traceback": [
        "\u001b[0;31m---------------------------------------------------------------------------\u001b[0m\n\u001b[0;31mNameError\u001b[0m                                 Traceback (most recent call last)",
        "\u001b[0;32m<ipython-input-6-18f2d8da49cb>\u001b[0m in \u001b[0;36m<module>\u001b[0;34m()\u001b[0m\n\u001b[0;32m----> 1\u001b[0;31m \u001b[0mlegislation\u001b[0m\u001b[0;34m.\u001b[0m\u001b[0mgroupby\u001b[0m\u001b[0;34m(\u001b[0m\u001b[0;34m'status'\u001b[0m\u001b[0;34m)\u001b[0m\u001b[0;34m.\u001b[0m\u001b[0msize\u001b[0m\u001b[0;34m(\u001b[0m\u001b[0;34m)\u001b[0m\u001b[0;34m\u001b[0m\u001b[0m\n\u001b[0m",
        "\u001b[0;31mNameError\u001b[0m: name 'legislation' is not defined"
       ]
      }
     ],
     "prompt_number": 6
    },
    {
     "cell_type": "code",
     "collapsed": false,
     "input": [
      "import pandas as pd\n",
      "temp_array = []\n",
      "for i in range(93,114):\n",
      "    t_com = pd.DataFrame().from_csv(\"data/csv/{0}/legislation.csv\".format(i))\n",
      "    temp_array.append(t_com)\n",
      "legislation = pd.concat(temp_array)\n",
      "\n",
      "legislation\n",
      "legislation.groupby('status').size()"
     ],
     "language": "python",
     "metadata": {},
     "outputs": [
      {
       "metadata": {},
       "output_type": "pyout",
       "prompt_number": 26,
       "text": [
        "status\n",
        "CONFERENCE:PASSED:HOUSE                        15\n",
        "CONFERENCE:PASSED:SENATE                        9\n",
        "ENACTED:SIGNED                              11436\n",
        "ENACTED:TENDAYRULE                              6\n",
        "ENACTED:VETO_OVERRIDE                          30\n",
        "FAIL:ORIGINATING:HOUSE                        101\n",
        "FAIL:ORIGINATING:SENATE                        44\n",
        "FAIL:SECOND:HOUSE                               2\n",
        "FAIL:SECOND:SENATE                              7\n",
        "INTRODUCED                                   1719\n",
        "PASSED:BILL                                    77\n",
        "PASSED:CONCURRENTRES                         1612\n",
        "PASSED:SIMPLERES                            14051\n",
        "PASS_BACK:HOUSE                               149\n",
        "PASS_BACK:SENATE                              445\n",
        "PASS_OVER:HOUSE                              7068\n",
        "PASS_OVER:SENATE                             4425\n",
        "PROV_KILL:CLOTUREFAILED                        86\n",
        "PROV_KILL:SUSPENSIONFAILED                    133\n",
        "PROV_KILL:VETO                                131\n",
        "REFERRED                                   230616\n",
        "REPORTED                                     9833\n",
        "VETOED:OVERRIDE_FAIL_ORIGINATING:HOUSE         23\n",
        "VETOED:OVERRIDE_FAIL_ORIGINATING:SENATE         8\n",
        "VETOED:OVERRIDE_FAIL_SECOND:HOUSE               2\n",
        "VETOED:OVERRIDE_FAIL_SECOND:SENATE              8\n",
        "VETOED:OVERRIDE_PASS_OVER:HOUSE                 1\n",
        "VETOED:POCKET                                  72\n",
        "dtype: int64"
       ]
      }
     ],
     "prompt_number": 26
    },
    {
     "cell_type": "code",
     "collapsed": false,
     "input": [
      "legislation.groupby('congress').size()"
     ],
     "language": "python",
     "metadata": {},
     "outputs": [
      {
       "metadata": {},
       "output_type": "pyout",
       "prompt_number": 27,
       "text": [
        "congress\n",
        "93          26222\n",
        "94          24285\n",
        "95          22313\n",
        "96          14590\n",
        "97          13236\n",
        "98          12202\n",
        "99          11602\n",
        "100         11278\n",
        "101         11787\n",
        "102         12016\n",
        "103          9822\n",
        "104          7991\n",
        "105          9141\n",
        "106         10840\n",
        "107         10789\n",
        "108         10669\n",
        "109         13072\n",
        "110         14042\n",
        "111         13675\n",
        "112         12299\n",
        "113         10238\n",
        "dtype: int64"
       ]
      }
     ],
     "prompt_number": 27
    },
    {
     "cell_type": "code",
     "collapsed": false,
     "input": [],
     "language": "python",
     "metadata": {},
     "outputs": []
    }
   ],
   "metadata": {}
  }
 ]
}